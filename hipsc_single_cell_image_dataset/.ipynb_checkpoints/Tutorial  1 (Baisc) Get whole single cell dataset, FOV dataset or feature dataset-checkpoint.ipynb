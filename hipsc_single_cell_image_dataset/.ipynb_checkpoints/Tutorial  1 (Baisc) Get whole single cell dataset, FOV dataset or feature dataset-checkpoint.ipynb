{
 "cells": [
  {
   "cell_type": "markdown",
   "metadata": {},
   "source": [
    "# Tutorial 1 (Basic): How to get the whole cell dataset, whole FOV dataset, or whole feature dataset\n",
    "\n",
    "The quilt data package (hipsc_single_cell_image_dataset) contains 216062 single cells segmented from 18186 field-of-view (FOV) with selected features calculated for each cell. In this tutorial, we will show \n",
    "* (1) how to get everything (ALERT! >13 TB), \n",
    "* (2) how to get all the single cell data (raw and segmentation),\n",
    "* (3) how to get all FOV data (raw and segmentation),\n",
    "* (4) how to get all the feature data"
   ]
  },
  {
   "cell_type": "code",
   "execution_count": null,
   "metadata": {},
   "outputs": [],
   "source": [
    "import pandas as pd\n",
    "import quilt3\n",
    "from pathlib import Path"
   ]
  },
  {
   "cell_type": "code",
   "execution_count": null,
   "metadata": {},
   "outputs": [],
   "source": [
    "# connect to quilt\n",
    "pkg = quilt3.Package.browse(\"aics/hipsc_single_cell_image_dataset\", registry=\"s3://allencell\")\n",
    "meta_df = pkg[\"metadata.csv\"]()"
   ]
  },
  {
   "cell_type": "code",
   "execution_count": null,
   "metadata": {},
   "outputs": [],
   "source": [
    "# a quick look at what are the columns \n",
    "print(meta_df.columns)"
   ]
  },
  {
   "cell_type": "markdown",
   "metadata": {},
   "source": [
    "## Example 1: get everything"
   ]
  },
  {
   "cell_type": "code",
   "execution_count": null,
   "metadata": {},
   "outputs": [],
   "source": [
    "# Large file alert! The package size is > 13 TB\n",
    "save_path = \"C:Projects/allen_cell_data/\"\n",
    "pkg.fetch(save_path)"
   ]
  },
  {
   "cell_type": "markdown",
   "metadata": {},
   "source": [
    "## Example 2: Get all single cell data (no FOV images)"
   ]
  },
  {
   "cell_type": "code",
   "execution_count": null,
   "metadata": {},
   "outputs": [],
   "source": [
    "save_path = Path(\"C:Projects/allen_cell_data/\")\n",
    "\n",
    "# download single cell raw images (cell membrane dye, dna dye, structure)\n",
    "pkg[\"crop_raw\"].fetch(save_path)\n",
    "\n",
    "# download single cell segmentation images (cell seg, nucleus seg, and structure seg)\n",
    "pkg[\"crop_seg\"].fetch(save_path)\n",
    "\n",
    "# download the meta information\n",
    "meta_df.to_csv(save_path / \"meta_info.csv\")"
   ]
  },
  {
   "cell_type": "markdown",
   "metadata": {},
   "source": [
    "## Example 3: Get all FOV data (raw images and segmentations)"
   ]
  },
  {
   "cell_type": "code",
   "execution_count": null,
   "metadata": {},
   "outputs": [],
   "source": [
    "save_path = Path(\"C:Projects/allen_cell_data/\")\n",
    "\n",
    "# download FOV images (cell membrane dye, dna dye, structure, brightfield)\n",
    "pkg[\"fov_path\"].fetch(save_path)\n",
    "\n",
    "# download cell and nuclear segmentation of each FOV\n",
    "pkg[\"fov_seg_path\"].fetch(save_path)\n",
    "\n",
    "# download structure segmentation of each FOV\n",
    "pkg[\"struct_seg_path\"].fetch(save_path)\n",
    "\n",
    "# download the meta information\n",
    "meta_df.to_csv(save_path / \"meta_info.csv\")"
   ]
  },
  {
   "cell_type": "markdown",
   "metadata": {},
   "source": [
    "## Example 4: Get all feature data (without downloading any images)"
   ]
  },
  {
   "cell_type": "code",
   "execution_count": null,
   "metadata": {},
   "outputs": [],
   "source": [
    "save_path = Path(\"C:Projects/allen_cell_data/\")\n",
    "\n",
    "# download the features \n",
    "# (extra columns about image filepath will be included, but can be easily ignored when analyzing the features)\n",
    "meta_df.to_csv(save_path / \"features.csv\")"
   ]
  }
 ],
 "metadata": {
  "kernelspec": {
   "display_name": "Python 3",
   "language": "python",
   "name": "python3"
  },
  "language_info": {
   "codemirror_mode": {
    "name": "ipython",
    "version": 3
   },
   "file_extension": ".py",
   "mimetype": "text/x-python",
   "name": "python",
   "nbconvert_exporter": "python",
   "pygments_lexer": "ipython3",
   "version": "3.7.6"
  }
 },
 "nbformat": 4,
 "nbformat_minor": 4
}
