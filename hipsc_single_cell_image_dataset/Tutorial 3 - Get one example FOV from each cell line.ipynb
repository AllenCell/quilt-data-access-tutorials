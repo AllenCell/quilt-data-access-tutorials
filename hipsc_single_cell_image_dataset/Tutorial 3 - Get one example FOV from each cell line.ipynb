{
 "cells": [
  {
   "cell_type": "markdown",
   "metadata": {},
   "source": [
    "# Tutorial 3: How to get one example FOV from each cell line\n",
    "\n",
    "The quilt data package (hipsc_single_cell_image_dataset) contains 216062 single cells segmented from 18186 field-of-view (FOV) with selected features calculated for each cell. In this tutorial, we will show **how to get one example FOV from each cell line**, which can be used for testing your image processing algorithm on different structures."
   ]
  },
  {
   "cell_type": "code",
   "execution_count": null,
   "metadata": {},
   "outputs": [],
   "source": [
    "######### FOR google COLAB user only #########\n",
    "### install necessary packages if in colab ###\n",
    "##############################################\n",
    "\n",
    "############################################################\n",
    "### make sure to restart runtime after running this step ###\n",
    "############################################################\n",
    "def run_subprocess_command(cmd):\n",
    "    process = subprocess.Popen(cmd.split(), stdout=subprocess.PIPE)\n",
    "    for line in process.stdout:\n",
    "        print(line.decode().strip())\n",
    "\n",
    "import sys, subprocess\n",
    "\n",
    "IN_COLAB = \"google.colab\" in sys.modules\n",
    "colab_requirements = [\n",
    "    \"pip install urllib3==1.25.4\",\n",
    "    \"pip install PyYAML==5.1\",\n",
    "    \"pip install quilt3\",\n",
    "    \"pip install aicsimageio\",\n",
    "]\n",
    "if IN_COLAB:\n",
    "    for i in colab_requirements:\n",
    "        run_subprocess_command(i)"
   ]
  },
  {
   "cell_type": "code",
   "execution_count": null,
   "metadata": {},
   "outputs": [],
   "source": [
    "import pandas as pd\n",
    "import numpy as np\n",
    "import quilt3\n",
    "from pathlib import Path\n",
    "from aicsimageio import AICSImage\n",
    "from aicsimageio.writers import OmeTiffWriter"
   ]
  },
  {
   "cell_type": "markdown",
   "metadata": {},
   "source": [
    "## Step 1: connect to the data storage"
   ]
  },
  {
   "cell_type": "code",
   "execution_count": null,
   "metadata": {},
   "outputs": [],
   "source": [
    "# connect to quilt\n",
    "pkg = quilt3.Package.browse(\"aics/hipsc_single_cell_image_dataset\", registry=\"s3://allencell\")\n",
    "meta_df = pkg[\"metadata.csv\"]()"
   ]
  },
  {
   "cell_type": "code",
   "execution_count": null,
   "metadata": {},
   "outputs": [],
   "source": [
    "# a quick look at what are the columns \n",
    "print(meta_df.columns)"
   ]
  },
  {
   "cell_type": "markdown",
   "metadata": {},
   "source": [
    "## step 2: find all different cell lines"
   ]
  },
  {
   "cell_type": "code",
   "execution_count": null,
   "metadata": {},
   "outputs": [],
   "source": [
    "meta_df[\"structure_name\"].unique()"
   ]
  },
  {
   "cell_type": "code",
   "execution_count": null,
   "metadata": {},
   "outputs": [],
   "source": [
    "num_sample = 1\n",
    "data = meta_df.groupby(\"structure_name\", group_keys=False)\n",
    "data = data.apply(pd.DataFrame.sample, n=num_sample)\n",
    "data = data.reset_index(drop=True)"
   ]
  },
  {
   "cell_type": "code",
   "execution_count": null,
   "metadata": {},
   "outputs": [],
   "source": [
    "data.shape"
   ]
  },
  {
   "cell_type": "markdown",
   "metadata": {},
   "source": [
    "## step 3: download data"
   ]
  },
  {
   "cell_type": "code",
   "execution_count": null,
   "metadata": {},
   "outputs": [],
   "source": [
    "# prepare file paths\n",
    "save_path = Path(\"C:/projects/allen_cell_data/\")\n",
    "save_path.mkdir(exist_ok=True)\n",
    "raw_path = save_path / Path(\"raw_image\")\n",
    "raw_path.mkdir(exist_ok=True)"
   ]
  },
  {
   "cell_type": "code",
   "execution_count": null,
   "metadata": {},
   "outputs": [],
   "source": [
    "for row in data.itertuples():\n",
    "    subdir_name = row.fov_path.split(\"/\")[0]\n",
    "    file_name = row.fov_path.split(\"/\")[1]\n",
    "    local_fn = raw_path / f\"{row.structure_name}_{row.FOVId}_ch_{row.ChannelNumberStruct}_original.tiff\"\n",
    "    pkg[subdir_name][file_name].fetch(local_fn)"
   ]
  },
  {
   "cell_type": "code",
   "execution_count": null,
   "metadata": {},
   "outputs": [],
   "source": []
  }
 ],
 "metadata": {
  "kernelspec": {
   "display_name": "Python 3",
   "language": "python",
   "name": "python3"
  },
  "language_info": {
   "codemirror_mode": {
    "name": "ipython",
    "version": 3
   },
   "file_extension": ".py",
   "mimetype": "text/x-python",
   "name": "python",
   "nbconvert_exporter": "python",
   "pygments_lexer": "ipython3",
   "version": "3.7.9"
  }
 },
 "nbformat": 4,
 "nbformat_minor": 4
}
