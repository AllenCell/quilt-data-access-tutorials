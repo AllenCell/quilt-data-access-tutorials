{
 "cells": [
  {
   "cell_type": "markdown",
   "metadata": {},
   "source": [
    "# Tutorial 2: How to get all segmentation from one cell line\n",
    "\n",
    "The quilt data package (hipsc_single_cell_image_dataset) contains 216062 single cells segmented from 18186 field-of-view (FOV) with selected features calculated for each cell. In this tutorial, we will show **how to get all the segmentation and raw images from one cell line**, which can be used for doing image analysis research of one specific structure or for analyzing one specific cell line in a customized way."
   ]
  },
  {
   "cell_type": "code",
   "execution_count": null,
   "metadata": {},
   "outputs": [],
   "source": [
    "######### FOR google COLAB user only #########\n",
    "### install necessary packages if in colab ###\n",
    "##############################################\n",
    "\n",
    "############################################################\n",
    "### make sure to restart runtime after running this step ###\n",
    "############################################################\n",
    "def run_subprocess_command(cmd):\n",
    "    process = subprocess.Popen(cmd.split(), stdout=subprocess.PIPE)\n",
    "    for line in process.stdout:\n",
    "        print(line.decode().strip())\n",
    "\n",
    "import sys, subprocess\n",
    "\n",
    "IN_COLAB = \"google.colab\" in sys.modules\n",
    "colab_requirements = [\n",
    "    \"pip install urllib3==1.25.4\",\n",
    "    \"pip install PyYAML==5.1\",\n",
    "    \"pip install quilt3\",\n",
    "    \"pip install aicsimageio\",\n",
    "]\n",
    "if IN_COLAB:\n",
    "    for i in colab_requirements:\n",
    "        run_subprocess_command(i)"
   ]
  },
  {
   "cell_type": "code",
   "execution_count": null,
   "metadata": {},
   "outputs": [],
   "source": [
    "import pandas as pd\n",
    "import quilt3\n",
    "from pathlib import Path\n",
    "from aicsimageio import AICSImage\n",
    "from aicsimageio.writers import OmeTiffWriter"
   ]
  },
  {
   "cell_type": "markdown",
   "metadata": {},
   "source": [
    "## Step 1: connect to the data storage"
   ]
  },
  {
   "cell_type": "code",
   "execution_count": null,
   "metadata": {},
   "outputs": [],
   "source": [
    "# connect to quilt\n",
    "pkg = quilt3.Package.browse(\"aics/hipsc_single_cell_image_dataset\", registry=\"s3://allencell\")\n",
    "meta_df = pkg[\"metadata.csv\"]()"
   ]
  },
  {
   "cell_type": "code",
   "execution_count": null,
   "metadata": {},
   "outputs": [],
   "source": [
    "# a quick look at what are the columns \n",
    "print(meta_df.columns)"
   ]
  },
  {
   "cell_type": "markdown",
   "metadata": {},
   "source": [
    "## step 2: select one cell line"
   ]
  },
  {
   "cell_type": "code",
   "execution_count": null,
   "metadata": {},
   "outputs": [],
   "source": [
    "# we use lamin B1 cell line for example (structure_name=='LMNB1')\n",
    "meta_df_lamin = meta_df.query(\"structure_name=='LMNB1'\")\n",
    "\n",
    "# collapse the data table based on FOVId\n",
    "meta_df_lamin.drop_duplicates(subset=\"FOVId\", inplace=True)\n",
    "\n",
    "# reset index\n",
    "meta_df_lamin.reset_index(drop=True, inplace=True)"
   ]
  },
  {
   "cell_type": "markdown",
   "metadata": {},
   "source": [
    "## step 3: download data"
   ]
  },
  {
   "cell_type": "markdown",
   "metadata": {},
   "source": [
    "### use case 1: download all lamin B1 images and its structure segmentations"
   ]
  },
  {
   "cell_type": "code",
   "execution_count": null,
   "metadata": {},
   "outputs": [],
   "source": [
    "# prepare file paths\n",
    "save_path = Path(\"C:/projects/allen_cell_data/\")\n",
    "save_path.mkdir(exist_ok=True)\n",
    "raw_path = save_path / Path(\"raw_image\")\n",
    "raw_path.mkdir(exist_ok=True)\n",
    "structure_path = save_path / Path(\"structure\")\n",
    "structure_path.mkdir(exist_ok=True)\n",
    "seg_path = save_path / Path(\"structure_segmentation\")\n",
    "seg_path.mkdir(exist_ok=True)\n",
    "\n",
    "# download all FOVs or a certain number\n",
    "num = 5 # or num = row.shape[0]\n",
    "for row in meta_df_lamin.itertuples():\n",
    "    \n",
    "    if row.Index >= num:\n",
    "        break\n",
    "    \n",
    "    # fetch the raw image\n",
    "    subdir_name = row.fov_path.split(\"/\")[0]\n",
    "    file_name = row.fov_path.split(\"/\")[1]\n",
    "    \n",
    "    local_fn = raw_path / f\"{row.FOVId}_original.tiff\"\n",
    "    pkg[subdir_name][file_name].fetch(local_fn)\n",
    "    \n",
    "    # extract the structure channel\n",
    "    structure_fn = structure_path / f\"{row.FOVId}.tiff\"\n",
    "    reader = AICSImage(local_fn)\n",
    "    with OmeTiffWriter(structure_fn) as writer:\n",
    "        writer.save(\n",
    "            reader.get_image_data(\"ZYX\", C=row.ChannelNumberStruct, S=0, T=0),\n",
    "            dimension_order='ZYX'\n",
    "        )\n",
    "        \n",
    "    # fetch structure segmentation\n",
    "    subdir_name = row.struct_seg_path.split(\"/\")[0]\n",
    "    file_name = row.struct_seg_path.split(\"/\")[1]\n",
    "    \n",
    "    seg_fn = seg_path / f\"{row.FOVId}_segmentation.tiff\"\n",
    "    pkg[subdir_name][file_name].fetch(seg_fn)\n"
   ]
  },
  {
   "cell_type": "markdown",
   "metadata": {},
   "source": [
    "### use case 2: download all lamin B1 images and its cell and nuclear segmentation"
   ]
  },
  {
   "cell_type": "code",
   "execution_count": null,
   "metadata": {},
   "outputs": [],
   "source": [
    "# prepare file paths\n",
    "save_path = Path(\"C:/projects/allen_cell_data/\")\n",
    "save_path.mkdir(exist_ok=True)\n",
    "raw_path = save_path / Path(\"raw_image\")\n",
    "raw_path.mkdir(exist_ok=True)\n",
    "dye_path = save_path / Path(\"dye\")\n",
    "dye_path.mkdir(exist_ok=True)\n",
    "seg_path = save_path / Path(\"fov_segmentation\")\n",
    "seg_path.mkdir(exist_ok=True)\n",
    "\n",
    "# download all FOVs or a certain number\n",
    "num = 5 # or num = row.shape[0]\n",
    "for row in meta_df_lamin.itertuples():\n",
    "    \n",
    "    # fetch the raw image\n",
    "    subdir_name = row.fov_path.split(\"/\")[0]\n",
    "    file_name = row.fov_path.split(\"/\")[1]\n",
    "    \n",
    "    local_fn = raw_path / f\"{row.FOVId}_original.tiff\"\n",
    "    pkg[subdir_name][file_name].fetch(local_fn)\n",
    "    \n",
    "    # extract the membrane dye and DNA dye channels\n",
    "    dye_fn = dye_path / f\"{row.FOVId}.tiff\"\n",
    "    reader = AICSImage(local_fn)\n",
    "    with OmeTiffWriter(dye_fn) as writer:\n",
    "        writer.save(\n",
    "            reader.get_image_data(\n",
    "                \"CZYX\",\n",
    "                C=[row.ChannelNumber638, row.ChannelNumber405],\n",
    "                S=0,\n",
    "                T=0\n",
    "            ),\n",
    "            dimension_order='ZYX'\n",
    "        )\n",
    "        \n",
    "    # fetch fov segmentation\n",
    "    subdir_name = row.fov_seg_path.split(\"/\")[0]\n",
    "    file_name = row.fov_seg_path.split(\"/\")[1]\n",
    "    \n",
    "    seg_fn = seg_path / f\"{row.FOVId}_segmentation.tiff\"\n",
    "    pkg[subdir_name][file_name].fetch(seg_fn)"
   ]
  }
 ],
 "metadata": {
  "kernelspec": {
   "display_name": "Python 3",
   "language": "python",
   "name": "python3"
  },
  "language_info": {
   "codemirror_mode": {
    "name": "ipython",
    "version": 3
   },
   "file_extension": ".py",
   "mimetype": "text/x-python",
   "name": "python",
   "nbconvert_exporter": "python",
   "pygments_lexer": "ipython3",
   "version": "3.8.3"
  }
 },
 "nbformat": 4,
 "nbformat_minor": 4
}
