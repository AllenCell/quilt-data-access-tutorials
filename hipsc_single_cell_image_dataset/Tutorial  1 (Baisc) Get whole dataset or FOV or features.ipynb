{
 "cells": [
  {
   "cell_type": "markdown",
   "metadata": {},
   "source": [
    "# Tutorial 1 (Basic): How to get the whole cell dataset, whole FOV dataset, or whole feature dataset\n",
    "\n",
    "The quilt data package (hipsc_single_cell_image_dataset) contains 216062 single cells segmented from 18186 field-of-view (FOV) with selected features calculated for each cell. In this tutorial, we will show \n",
    "* (1) how to get everything (ALERT! >13 TB), \n",
    "* (2) how to get all the single cell data (raw and segmentation),\n",
    "* (3) how to get all FOV data (raw and segmentation),\n",
    "* (4) how to get all the feature data"
   ]
  },
  {
   "cell_type": "code",
   "execution_count": null,
   "metadata": {},
   "outputs": [],
   "source": [
    "######### FOR google COLAB user only #########\n",
    "### install necessary packages if in colab ###\n",
    "##############################################\n",
    "\n",
    "############################################################\n",
    "### make sure to restart runtime after running this step ###\n",
    "############################################################\n",
    "def run_subprocess_command(cmd):\n",
    "    process = subprocess.Popen(cmd.split(), stdout=subprocess.PIPE)\n",
    "    for line in process.stdout:\n",
    "        print(line.decode().strip())\n",
    "\n",
    "import sys, subprocess\n",
    "\n",
    "IN_COLAB = \"google.colab\" in sys.modules\n",
    "colab_requirements = [\n",
    "    \"pip install urllib3==1.25.4\",\n",
    "    \"pip install PyYAML==5.1\",\n",
    "    \"pip install quilt3\",\n",
    "]\n",
    "if IN_COLAB:\n",
    "    for i in colab_requirements:\n",
    "        run_subprocess_command(i)"
   ]
  },
  {
   "cell_type": "code",
   "execution_count": null,
   "metadata": {},
   "outputs": [],
   "source": [
    "import pandas as pd\n",
    "import quilt3\n",
    "from pathlib import Path"
   ]
  },
  {
   "cell_type": "code",
   "execution_count": null,
   "metadata": {},
   "outputs": [],
   "source": [
    "# connect to quilt\n",
    "pkg = quilt3.Package.browse(\"aics/hipsc_single_cell_image_dataset\", registry=\"s3://allencell\")\n",
    "meta_df = pkg[\"metadata.csv\"]()"
   ]
  },
  {
   "cell_type": "code",
   "execution_count": null,
   "metadata": {},
   "outputs": [],
   "source": [
    "# a quick look at what are the columns \n",
    "print(meta_df.columns)"
   ]
  },
  {
   "cell_type": "markdown",
   "metadata": {},
   "source": [
    "## Example 1: get everything"
   ]
  },
  {
   "cell_type": "code",
   "execution_count": null,
   "metadata": {},
   "outputs": [],
   "source": [
    "# Large file alert! The package size is > 13 TB\n",
    "save_path = \"C:Projects/allen_cell_data/\"\n",
    "pkg.fetch(save_path)"
   ]
  },
  {
   "cell_type": "markdown",
   "metadata": {},
   "source": [
    "## Example 2: Get all single cell data (no FOV images)"
   ]
  },
  {
   "cell_type": "code",
   "execution_count": null,
   "metadata": {},
   "outputs": [],
   "source": [
    "save_path = Path(\"C:Projects/allen_cell_data/\")\n",
    "\n",
    "# download single cell raw images (cell membrane dye, dna dye, structure)\n",
    "pkg[\"crop_raw\"].fetch(save_path / Path(\"crop_raw\"))\n",
    "\n",
    "# download single cell segmentation images (cell seg, nucleus seg, and structure seg)\n",
    "pkg[\"crop_seg\"].fetch(save_path / Path(\"crop_seg\"))\n",
    "\n",
    "# download the meta information\n",
    "meta_df.to_csv(save_path / \"meta_info.csv\")"
   ]
  },
  {
   "cell_type": "markdown",
   "metadata": {},
   "source": [
    "## Example 3: Get all FOV data (raw images and segmentations)"
   ]
  },
  {
   "cell_type": "code",
   "execution_count": null,
   "metadata": {},
   "outputs": [],
   "source": [
    "save_path = Path(\"C:Projects/allen_cell_data/\")\n",
    "\n",
    "# download FOV images (cell membrane dye, dna dye, structure, brightfield)\n",
    "pkg[\"fov_path\"].fetch(save_path / Path(\"fov_path\"))\n",
    "\n",
    "# download cell and nuclear segmentation of each FOV\n",
    "pkg[\"fov_seg_path\"].fetch(save_path / Path(\"fov_seg_path\"))\n",
    "\n",
    "# download structure segmentation of each FOV\n",
    "pkg[\"struct_seg_path\"].fetch(save_path / Path(\"struct_seg_path\"))\n",
    "\n",
    "# download the meta information\n",
    "meta_df.to_csv(save_path / \"meta_info.csv\")"
   ]
  },
  {
   "cell_type": "markdown",
   "metadata": {},
   "source": [
    "## Example 4: Get all feature data (without downloading any images)"
   ]
  },
  {
   "cell_type": "code",
   "execution_count": null,
   "metadata": {},
   "outputs": [],
   "source": [
    "save_path = Path(\"C:Projects/allen_cell_data/\")\n",
    "\n",
    "# download the features \n",
    "# (extra columns about image filepath will be included, but can be easily ignored when analyzing the features)\n",
    "meta_df.to_csv(save_path / \"features.csv\")"
   ]
  }
 ],
 "metadata": {
  "kernelspec": {
   "display_name": "Python 3",
   "language": "python",
   "name": "python3"
  },
  "language_info": {
   "codemirror_mode": {
    "name": "ipython",
    "version": 3
   },
   "file_extension": ".py",
   "mimetype": "text/x-python",
   "name": "python",
   "nbconvert_exporter": "python",
   "pygments_lexer": "ipython3",
   "version": "3.8.3"
  }
 },
 "nbformat": 4,
 "nbformat_minor": 4
}
