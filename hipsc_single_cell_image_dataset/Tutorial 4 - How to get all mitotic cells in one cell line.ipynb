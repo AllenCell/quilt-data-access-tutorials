{
 "cells": [
  {
   "cell_type": "markdown",
   "metadata": {},
   "source": [
    "# Tutorial 4: How to get all mitotic cells in one cell line\n",
    "\n",
    "The quilt data package (hipsc_single_cell_image_dataset) contains 216062 single cells segmented from 18186 field-of-view (FOV) with selected features calculated for each cell. In this tutorial, we will show **how to get all mitotic cells in one cell line**, which can be used for observing or analyzing the shape of a structure during mitosis."
   ]
  },
  {
   "cell_type": "code",
   "execution_count": null,
   "metadata": {},
   "outputs": [],
   "source": [
    "######### FOR google COLAB user only #########\n",
    "### install necessary packages if in colab ###\n",
    "##############################################\n",
    "\n",
    "############################################################\n",
    "### make sure to restart runtime after running this step ###\n",
    "############################################################\n",
    "def run_subprocess_command(cmd):\n",
    "    process = subprocess.Popen(cmd.split(), stdout=subprocess.PIPE)\n",
    "    for line in process.stdout:\n",
    "        print(line.decode().strip())\n",
    "\n",
    "import sys, subprocess\n",
    "\n",
    "IN_COLAB = \"google.colab\" in sys.modules\n",
    "colab_requirements = [\n",
    "    \"pip install urllib3==1.25.4\",\n",
    "    \"pip install PyYAML==5.1\",\n",
    "    \"pip install quilt3\",\n",
    "    \"pip install aicsimageio\",\n",
    "]\n",
    "if IN_COLAB:\n",
    "    for i in colab_requirements:\n",
    "        run_subprocess_command(i)"
   ]
  },
  {
   "cell_type": "code",
   "execution_count": null,
   "metadata": {},
   "outputs": [],
   "source": [
    "import pandas as pd\n",
    "import numpy as np\n",
    "import quilt3\n",
    "from pathlib import Path\n",
    "from aicsimageio import AICSImage\n",
    "from aicsimageio.writers import OmeTiffWriter"
   ]
  },
  {
   "cell_type": "markdown",
   "metadata": {},
   "source": [
    "## Step 1: connect to the data storage"
   ]
  },
  {
   "cell_type": "code",
   "execution_count": null,
   "metadata": {},
   "outputs": [],
   "source": [
    "# connect to quilt\n",
    "pkg = quilt3.Package.browse(\"aics/hipsc_single_cell_image_dataset\", registry=\"s3://allencell\")\n",
    "meta_df = pkg[\"metadata.csv\"]()"
   ]
  },
  {
   "cell_type": "code",
   "execution_count": null,
   "metadata": {},
   "outputs": [],
   "source": [
    "# a quick look at what are the columns \n",
    "print(meta_df.columns)"
   ]
  },
  {
   "cell_type": "markdown",
   "metadata": {},
   "source": [
    "## step 2: select one cell line"
   ]
  },
  {
   "cell_type": "code",
   "execution_count": null,
   "metadata": {},
   "outputs": [],
   "source": [
    "target_cellline = \"FBL\"\n",
    "data = meta_df.query(\"structure_name==@target_cellline\")"
   ]
  },
  {
   "cell_type": "code",
   "execution_count": null,
   "metadata": {},
   "outputs": [],
   "source": [
    "data[\"cell_stage\"].unique()"
   ]
  },
  {
   "cell_type": "code",
   "execution_count": null,
   "metadata": {},
   "outputs": [],
   "source": [
    "data_mitotic = data.query(\"cell_stage!='M0'\")"
   ]
  },
  {
   "cell_type": "code",
   "execution_count": null,
   "metadata": {},
   "outputs": [],
   "source": [
    "data_mitotic.shape"
   ]
  },
  {
   "cell_type": "markdown",
   "metadata": {},
   "source": [
    "## step 3: download data"
   ]
  },
  {
   "cell_type": "code",
   "execution_count": null,
   "metadata": {},
   "outputs": [],
   "source": [
    "# prepare file paths\n",
    "save_path = Path(\"C:/projects/allen_cell_data/\")\n",
    "save_path.mkdir(exist_ok=True)"
   ]
  },
  {
   "cell_type": "code",
   "execution_count": null,
   "metadata": {},
   "outputs": [],
   "source": [
    "# identify all unique FOVs\n",
    "fov_list = data_mitotic[\"FOVId\"].unique()\n",
    "\n",
    "for fov_id in fov_list:\n",
    "    # prepare the path to save this FOV\n",
    "    raw_path = save_path / Path(str(fov_id))\n",
    "    raw_path.mkdir(exist_ok=True)\n",
    "    \n",
    "    # get all mitotic cells in this FOV\n",
    "    fov_mitotic = data_mitotic.query(\"FOVId==@fov_id\")\n",
    "    \n",
    "    if len(fov_mitotic) < 2:\n",
    "        continue\n",
    "    \n",
    "    # fetch raw image:\n",
    "    fov_path = fov_mitotic[\"fov_path\"].iloc[0]\n",
    "    ch = fov_mitotic[\"ChannelNumberStruct\"].iloc[0]\n",
    "    subdir_name = fov_path.split(\"/\")[0]\n",
    "    file_name = fov_path.split(\"/\")[1]\n",
    "    local_fn = raw_path / f\"original_{fov_id}_ch_{ch}.tiff\"\n",
    "    pkg[subdir_name][file_name].fetch(local_fn)\n",
    "    \n",
    "    # fetch fov segmentation:\n",
    "    fov_seg_path = fov_mitotic[\"fov_seg_path\"].iloc[0]\n",
    "    subdir_name = fov_seg_path.split(\"/\")[0]\n",
    "    file_name = fov_seg_path.split(\"/\")[1]\n",
    "    seg_fn = raw_path / f\"fov_segmentation_{fov_id}.tiff\"\n",
    "    pkg[subdir_name][file_name].fetch(seg_fn)\n",
    "    \n",
    "    # fetch structure segmentation\n",
    "    struct_seg_path = fov_mitotic[\"struct_seg_path\"].iloc[0]\n",
    "    subdir_name = struct_seg_path.split(\"/\")[0]\n",
    "    file_name = struct_seg_path.split(\"/\")[1]\n",
    "    struct_seg_fn = raw_path / f\"structure_segmentation_{fov_id}.tiff\"\n",
    "    pkg[subdir_name][file_name].fetch(struct_seg_fn)\n",
    "    \n",
    "    # read the cell segmentation\n",
    "    reader = AICSImage(seg_fn)\n",
    "    cell_seg = reader.get_image_data(\"ZYX\", C=1, S=0, T=0)\n",
    "    \n",
    "    # get mask of each mitotic cell\n",
    "    for row in fov_mitotic.itertuples():\n",
    "        # get cell index\n",
    "        c_id = row.this_cell_index\n",
    "        \n",
    "        # mitotic label\n",
    "        m_lab = row.cell_stage\n",
    "        \n",
    "        # mask for this cell\n",
    "        cell_seg_this_cell = cell_seg==c_id\n",
    "        cell_seg_this_cell = cell_seg_this_cell.astype(np.uint8)\n",
    "\n",
    "        # save the mask\n",
    "        out_fn = raw_path / f\"cell-{c_id}-{m_lab}_mask.tiff\"\n",
    "        with OmeTiffWriter(out_fn) as writer:\n",
    "            writer.save(\n",
    "                cell_seg_this_cell,\n",
    "                dimension_order='ZYX'\n",
    "            )"
   ]
  },
  {
   "cell_type": "code",
   "execution_count": null,
   "metadata": {},
   "outputs": [],
   "source": []
  }
 ],
 "metadata": {
  "kernelspec": {
   "display_name": "Python 3",
   "language": "python",
   "name": "python3"
  },
  "language_info": {
   "codemirror_mode": {
    "name": "ipython",
    "version": 3
   },
   "file_extension": ".py",
   "mimetype": "text/x-python",
   "name": "python",
   "nbconvert_exporter": "python",
   "pygments_lexer": "ipython3",
   "version": "3.7.9"
  }
 },
 "nbformat": 4,
 "nbformat_minor": 4
}
